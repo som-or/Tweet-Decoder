{
  "nbformat": 4,
  "nbformat_minor": 0,
  "metadata": {
    "colab": {
      "provenance": []
    },
    "kernelspec": {
      "name": "python3",
      "display_name": "Python 3"
    },
    "language_info": {
      "name": "python"
    }
  },
  "cells": [
    {
      "cell_type": "markdown",
      "source": [
        "Final Task: Aim to classify the tweets."
      ],
      "metadata": {
        "id": "dKvCGbU3fmE7"
      }
    },
    {
      "cell_type": "code",
      "execution_count": 3,
      "metadata": {
        "id": "tXadGW9ifh52"
      },
      "outputs": [],
      "source": [
        "import numpy as np\n",
        "import pandas as pd"
      ]
    },
    {
      "cell_type": "code",
      "source": [
        "!gdown --id 1RARLRRVmkaoHQV05pfGIvyBH6XRjcSr9"
      ],
      "metadata": {
        "id": "jiPCnnBSgzUD",
        "outputId": "231a7d8f-bd4a-4adc-ceb1-9905be16fb9a",
        "colab": {
          "base_uri": "https://localhost:8080/"
        }
      },
      "execution_count": 4,
      "outputs": [
        {
          "output_type": "stream",
          "name": "stdout",
          "text": [
            "/usr/local/lib/python3.10/dist-packages/gdown/cli.py:121: FutureWarning: Option `--id` was deprecated in version 4.3.1 and will be removed in 5.0. You don't need to pass it anymore to use a file ID.\n",
            "  warnings.warn(\n",
            "Downloading...\n",
            "From: https://drive.google.com/uc?id=1RARLRRVmkaoHQV05pfGIvyBH6XRjcSr9\n",
            "To: /content/tweets.csv\n",
            "100% 8.70M/8.70M [00:00<00:00, 223MB/s]\n"
          ]
        }
      ]
    },
    {
      "cell_type": "code",
      "source": [
        "data= pd.read_csv('tweets.csv')\n",
        "data"
      ],
      "metadata": {
        "id": "PD4UqJGOhiKU",
        "outputId": "6c7da110-59c5-4f00-d1e0-b1fbbc600a97",
        "colab": {
          "base_uri": "https://localhost:8080/",
          "height": 424
        }
      },
      "execution_count": 5,
      "outputs": [
        {
          "output_type": "execute_result",
          "data": {
            "text/plain": [
              "       Unnamed: 0                                              tweet  target\n",
              "0               0  ndtv anchor let go over to aap live press conf...       0\n",
              "1               1  sambit patra attacks rahul gandhi over his cow...       0\n",
              "2               2  crediting the bjp with taking development to s...       1\n",
              "3               3  ktrbrs do do false allegations on iasassociati...       0\n",
              "4               4  gujarat assembly yet to get rs cr as gst compe...       1\n",
              "...           ...                                                ...     ...\n",
              "49472       25683  1ddrive modispeakstonews18 loksabhaelections20...       1\n",
              "49473       25684  i am seriously worried about future of indian ...       1\n",
              "49474       25685  if narendramodi is so bad then why does incind...       0\n",
              "49475       25686  on this 23rd march pakistan day i urge all ind...       0\n",
              "49476       25687  timesofindia arvindkejriwal aap sirji pls deci...       0\n",
              "\n",
              "[49477 rows x 3 columns]"
            ],
            "text/html": [
              "\n",
              "  <div id=\"df-41a29bb2-7871-4e8d-acc7-5ffac2b43226\">\n",
              "    <div class=\"colab-df-container\">\n",
              "      <div>\n",
              "<style scoped>\n",
              "    .dataframe tbody tr th:only-of-type {\n",
              "        vertical-align: middle;\n",
              "    }\n",
              "\n",
              "    .dataframe tbody tr th {\n",
              "        vertical-align: top;\n",
              "    }\n",
              "\n",
              "    .dataframe thead th {\n",
              "        text-align: right;\n",
              "    }\n",
              "</style>\n",
              "<table border=\"1\" class=\"dataframe\">\n",
              "  <thead>\n",
              "    <tr style=\"text-align: right;\">\n",
              "      <th></th>\n",
              "      <th>Unnamed: 0</th>\n",
              "      <th>tweet</th>\n",
              "      <th>target</th>\n",
              "    </tr>\n",
              "  </thead>\n",
              "  <tbody>\n",
              "    <tr>\n",
              "      <th>0</th>\n",
              "      <td>0</td>\n",
              "      <td>ndtv anchor let go over to aap live press conf...</td>\n",
              "      <td>0</td>\n",
              "    </tr>\n",
              "    <tr>\n",
              "      <th>1</th>\n",
              "      <td>1</td>\n",
              "      <td>sambit patra attacks rahul gandhi over his cow...</td>\n",
              "      <td>0</td>\n",
              "    </tr>\n",
              "    <tr>\n",
              "      <th>2</th>\n",
              "      <td>2</td>\n",
              "      <td>crediting the bjp with taking development to s...</td>\n",
              "      <td>1</td>\n",
              "    </tr>\n",
              "    <tr>\n",
              "      <th>3</th>\n",
              "      <td>3</td>\n",
              "      <td>ktrbrs do do false allegations on iasassociati...</td>\n",
              "      <td>0</td>\n",
              "    </tr>\n",
              "    <tr>\n",
              "      <th>4</th>\n",
              "      <td>4</td>\n",
              "      <td>gujarat assembly yet to get rs cr as gst compe...</td>\n",
              "      <td>1</td>\n",
              "    </tr>\n",
              "    <tr>\n",
              "      <th>...</th>\n",
              "      <td>...</td>\n",
              "      <td>...</td>\n",
              "      <td>...</td>\n",
              "    </tr>\n",
              "    <tr>\n",
              "      <th>49472</th>\n",
              "      <td>25683</td>\n",
              "      <td>1ddrive modispeakstonews18 loksabhaelections20...</td>\n",
              "      <td>1</td>\n",
              "    </tr>\n",
              "    <tr>\n",
              "      <th>49473</th>\n",
              "      <td>25684</td>\n",
              "      <td>i am seriously worried about future of indian ...</td>\n",
              "      <td>1</td>\n",
              "    </tr>\n",
              "    <tr>\n",
              "      <th>49474</th>\n",
              "      <td>25685</td>\n",
              "      <td>if narendramodi is so bad then why does incind...</td>\n",
              "      <td>0</td>\n",
              "    </tr>\n",
              "    <tr>\n",
              "      <th>49475</th>\n",
              "      <td>25686</td>\n",
              "      <td>on this 23rd march pakistan day i urge all ind...</td>\n",
              "      <td>0</td>\n",
              "    </tr>\n",
              "    <tr>\n",
              "      <th>49476</th>\n",
              "      <td>25687</td>\n",
              "      <td>timesofindia arvindkejriwal aap sirji pls deci...</td>\n",
              "      <td>0</td>\n",
              "    </tr>\n",
              "  </tbody>\n",
              "</table>\n",
              "<p>49477 rows × 3 columns</p>\n",
              "</div>\n",
              "      <button class=\"colab-df-convert\" onclick=\"convertToInteractive('df-41a29bb2-7871-4e8d-acc7-5ffac2b43226')\"\n",
              "              title=\"Convert this dataframe to an interactive table.\"\n",
              "              style=\"display:none;\">\n",
              "        \n",
              "  <svg xmlns=\"http://www.w3.org/2000/svg\" height=\"24px\"viewBox=\"0 0 24 24\"\n",
              "       width=\"24px\">\n",
              "    <path d=\"M0 0h24v24H0V0z\" fill=\"none\"/>\n",
              "    <path d=\"M18.56 5.44l.94 2.06.94-2.06 2.06-.94-2.06-.94-.94-2.06-.94 2.06-2.06.94zm-11 1L8.5 8.5l.94-2.06 2.06-.94-2.06-.94L8.5 2.5l-.94 2.06-2.06.94zm10 10l.94 2.06.94-2.06 2.06-.94-2.06-.94-.94-2.06-.94 2.06-2.06.94z\"/><path d=\"M17.41 7.96l-1.37-1.37c-.4-.4-.92-.59-1.43-.59-.52 0-1.04.2-1.43.59L10.3 9.45l-7.72 7.72c-.78.78-.78 2.05 0 2.83L4 21.41c.39.39.9.59 1.41.59.51 0 1.02-.2 1.41-.59l7.78-7.78 2.81-2.81c.8-.78.8-2.07 0-2.86zM5.41 20L4 18.59l7.72-7.72 1.47 1.35L5.41 20z\"/>\n",
              "  </svg>\n",
              "      </button>\n",
              "      \n",
              "  <style>\n",
              "    .colab-df-container {\n",
              "      display:flex;\n",
              "      flex-wrap:wrap;\n",
              "      gap: 12px;\n",
              "    }\n",
              "\n",
              "    .colab-df-convert {\n",
              "      background-color: #E8F0FE;\n",
              "      border: none;\n",
              "      border-radius: 50%;\n",
              "      cursor: pointer;\n",
              "      display: none;\n",
              "      fill: #1967D2;\n",
              "      height: 32px;\n",
              "      padding: 0 0 0 0;\n",
              "      width: 32px;\n",
              "    }\n",
              "\n",
              "    .colab-df-convert:hover {\n",
              "      background-color: #E2EBFA;\n",
              "      box-shadow: 0px 1px 2px rgba(60, 64, 67, 0.3), 0px 1px 3px 1px rgba(60, 64, 67, 0.15);\n",
              "      fill: #174EA6;\n",
              "    }\n",
              "\n",
              "    [theme=dark] .colab-df-convert {\n",
              "      background-color: #3B4455;\n",
              "      fill: #D2E3FC;\n",
              "    }\n",
              "\n",
              "    [theme=dark] .colab-df-convert:hover {\n",
              "      background-color: #434B5C;\n",
              "      box-shadow: 0px 1px 3px 1px rgba(0, 0, 0, 0.15);\n",
              "      filter: drop-shadow(0px 1px 2px rgba(0, 0, 0, 0.3));\n",
              "      fill: #FFFFFF;\n",
              "    }\n",
              "  </style>\n",
              "\n",
              "      <script>\n",
              "        const buttonEl =\n",
              "          document.querySelector('#df-41a29bb2-7871-4e8d-acc7-5ffac2b43226 button.colab-df-convert');\n",
              "        buttonEl.style.display =\n",
              "          google.colab.kernel.accessAllowed ? 'block' : 'none';\n",
              "\n",
              "        async function convertToInteractive(key) {\n",
              "          const element = document.querySelector('#df-41a29bb2-7871-4e8d-acc7-5ffac2b43226');\n",
              "          const dataTable =\n",
              "            await google.colab.kernel.invokeFunction('convertToInteractive',\n",
              "                                                     [key], {});\n",
              "          if (!dataTable) return;\n",
              "\n",
              "          const docLinkHtml = 'Like what you see? Visit the ' +\n",
              "            '<a target=\"_blank\" href=https://colab.research.google.com/notebooks/data_table.ipynb>data table notebook</a>'\n",
              "            + ' to learn more about interactive tables.';\n",
              "          element.innerHTML = '';\n",
              "          dataTable['output_type'] = 'display_data';\n",
              "          await google.colab.output.renderOutput(dataTable, element);\n",
              "          const docLink = document.createElement('div');\n",
              "          docLink.innerHTML = docLinkHtml;\n",
              "          element.appendChild(docLink);\n",
              "        }\n",
              "      </script>\n",
              "    </div>\n",
              "  </div>\n",
              "  "
            ]
          },
          "metadata": {},
          "execution_count": 5
        }
      ]
    },
    {
      "cell_type": "markdown",
      "source": [
        "Government tweets are labeled with 1 while opposition tweets are labeled with 0. I have already done the data pre-processing part to make it easy for you all.\n",
        "Go-ahead and do **encode -> spliting -> classification using model**.\n",
        "You have already done this task in last two assignments. **Best of Luck!**\n",
        "\n",
        "Optional: You can also try clustring algorithem, this would give you a better result."
      ],
      "metadata": {
        "id": "mjOKIUAUiCF5"
      }
    },
    {
      "cell_type": "code",
      "source": [
        "tweets=data['tweet']\n",
        "y=data['target']\n",
        "print(\"length of data is \"+str(len(tweets)))\n"
      ],
      "metadata": {
        "id": "ooCCIUFOh47y",
        "colab": {
          "base_uri": "https://localhost:8080/"
        },
        "outputId": "da238f4d-a3ac-462e-d212-1c5315d33786"
      },
      "execution_count": 35,
      "outputs": [
        {
          "output_type": "stream",
          "name": "stdout",
          "text": [
            "length of data is 49477\n"
          ]
        }
      ]
    },
    {
      "cell_type": "code",
      "source": [
        "%%capture\n",
        "!pip3 install seaborn"
      ],
      "metadata": {
        "id": "62677C3hoFZ7"
      },
      "execution_count": 9,
      "outputs": []
    },
    {
      "cell_type": "code",
      "source": [
        "from absl import logging\n",
        "\n",
        "import tensorflow as tf\n",
        "\n",
        "import tensorflow_hub as hub\n",
        "import matplotlib.pyplot as plt\n",
        "import numpy as np\n",
        "import os\n",
        "import pandas as pd\n",
        "import re\n",
        "import seaborn as sns\n",
        "\n",
        "module_url = \"https://tfhub.dev/google/universal-sentence-encoder/4\" #@param [\"https://tfhub.dev/google/universal-sentence-encoder/4\", \"https://tfhub.dev/google/universal-sentence-encoder-large/5\"]\n",
        "model = hub.load(module_url)\n",
        "print (\"module %s loaded\" % module_url)\n",
        "def embed(input):\n",
        "  return model(input)"
      ],
      "metadata": {
        "colab": {
          "base_uri": "https://localhost:8080/"
        },
        "id": "ETl8VXcXS1hp",
        "outputId": "beffeccb-b219-4ae6-ba5a-1647a1d582c4"
      },
      "execution_count": 10,
      "outputs": [
        {
          "output_type": "stream",
          "name": "stdout",
          "text": [
            "module https://tfhub.dev/google/universal-sentence-encoder/4 loaded\n"
          ]
        }
      ]
    },
    {
      "cell_type": "markdown",
      "source": [
        "# SIMILARITY PLOT OF FIRST 50 TWEETS"
      ],
      "metadata": {
        "id": "Iw18t8tGZpry"
      }
    },
    {
      "cell_type": "code",
      "source": [
        "t = tweets[:50]"
      ],
      "metadata": {
        "id": "m2wg8uEiacxa"
      },
      "execution_count": 27,
      "outputs": []
    },
    {
      "cell_type": "code",
      "source": [
        "\n",
        "logging.set_verbosity(logging.ERROR)\n",
        "\n",
        "message_embeddings = embed(t)\n",
        "\n"
      ],
      "metadata": {
        "id": "SHED8sl4TCU-"
      },
      "execution_count": 28,
      "outputs": []
    },
    {
      "cell_type": "code",
      "source": [
        "print(message_embeddings.shape)\n",
        "print(type(message_embeddings))"
      ],
      "metadata": {
        "colab": {
          "base_uri": "https://localhost:8080/"
        },
        "id": "yAcJbb_oTdO_",
        "outputId": "676a7e87-0b13-40af-f397-e7aff676390e"
      },
      "execution_count": 29,
      "outputs": [
        {
          "output_type": "stream",
          "name": "stdout",
          "text": [
            "(50, 512)\n",
            "<class 'tensorflow.python.framework.ops.EagerTensor'>\n"
          ]
        }
      ]
    },
    {
      "cell_type": "code",
      "source": [
        "def plot_similarity(labels, features, rotation):\n",
        "  corr = np.inner(features, features)\n",
        "  sns.set(font_scale=1.2)\n",
        "  g = sns.heatmap(\n",
        "      corr,\n",
        "      xticklabels=labels.index,\n",
        "      yticklabels=labels.index,\n",
        "      vmin=0,\n",
        "      vmax=1,\n",
        "      cmap=\"YlOrRd\")\n",
        "  g.set_xticklabels(labels.index, rotation=rotation)\n",
        "  g.set_title(\"Semantic Textual Similarity\")\n",
        "\n",
        "def run_and_plot(messages_):\n",
        "  message_embeddings_ = embed(messages_)\n",
        "  plot_similarity(messages_, message_embeddings_, 90)"
      ],
      "metadata": {
        "id": "F2WqmSJiUVzK"
      },
      "execution_count": 30,
      "outputs": []
    },
    {
      "cell_type": "code",
      "source": [
        "run_and_plot(t)"
      ],
      "metadata": {
        "colab": {
          "base_uri": "https://localhost:8080/",
          "height": 466
        },
        "id": "0FPGkLFrVitz",
        "outputId": "541708b7-cb95-4a94-d0b6-635cf4af12d3"
      },
      "execution_count": 31,
      "outputs": [
        {
          "output_type": "display_data",
          "data": {
            "text/plain": [
              "<Figure size 640x480 with 2 Axes>"
            ],
            "image/png": "[encoded data removed]"
          },
          "metadata": {}
        }
      ]
    },
    {
      "cell_type": "markdown",
      "source": [
        "# TRAINING MODEL"
      ],
      "metadata": {
        "id": "mnu-zRO0aDPN"
      }
    },
    {
      "cell_type": "code",
      "source": [
        "logging.set_verbosity(logging.ERROR)\n",
        "\n",
        "message_embeddings = embed(tweets)"
      ],
      "metadata": {
        "id": "HpoIdfFSaLj7"
      },
      "execution_count": 32,
      "outputs": []
    },
    {
      "cell_type": "code",
      "source": [
        "print(message_embeddings.shape)\n",
        "print(type(message_embeddings))"
      ],
      "metadata": {
        "colab": {
          "base_uri": "https://localhost:8080/"
        },
        "outputId": "02e68c6d-257f-4def-96fe-65442428e0f2",
        "id": "W2DgC8HNaknw"
      },
      "execution_count": 33,
      "outputs": [
        {
          "output_type": "stream",
          "name": "stdout",
          "text": [
            "(49477, 512)\n",
            "<class 'tensorflow.python.framework.ops.EagerTensor'>\n"
          ]
        }
      ]
    },
    {
      "cell_type": "code",
      "source": [
        "from sklearn.model_selection import train_test_split\n",
        "\n",
        "\n",
        "X = np.array(message_embeddings )\n",
        "y=np.array(y) # Shape: (49477, 512)\n",
        "\n",
        "X_train, X_t,y_train,y_t = train_test_split(X,y, test_size=0.4, random_state=42)\n",
        "\n",
        "print(\"Training set shape:\", X_train.shape)\n",
        "X_test, X_cv,y_test,y_cv = train_test_split(X_t,y_t, test_size=0.5, random_state=42)\n",
        "print(\"Test set shape:\", X_test.shape)\n",
        "print(\"validation set shape:\", X_cv.shape)"
      ],
      "metadata": {
        "colab": {
          "base_uri": "https://localhost:8080/"
        },
        "id": "aSVbbCw3ahXO",
        "outputId": "77e37d33-c0ab-4ced-c803-d7919a7a9a04"
      },
      "execution_count": 40,
      "outputs": [
        {
          "output_type": "stream",
          "name": "stdout",
          "text": [
            "Training set shape: (29686, 512)\n",
            "Test set shape: (9895, 512)\n",
            "validation set shape: (9896, 512)\n"
          ]
        }
      ]
    },
    {
      "cell_type": "code",
      "source": [
        "class MyModel(tf.keras.Model):\n",
        "  def __init__(self, hub_url):\n",
        "    super().__init__()\n",
        "    self.hub_url = hub_url\n",
        "    self.embed = hub.load(self.hub_url).signatures['default']\n",
        "    self.sequential = tf.keras.Sequential([\n",
        "      tf.keras.layers.Dense(500),\n",
        "      tf.keras.layers.Dense(100),\n",
        "      tf.keras.layers.Dense(2),\n",
        "    ])\n",
        "\n",
        "  def call(self, inputs):\n",
        "    phrases = inputs['Phrase'][:,0]\n",
        "    embedding = 5*self.embed(phrases)['default']\n",
        "    return self.sequential(embedding)\n",
        "\n",
        "  def get_config(self):\n",
        "    return {\"hub_url\":self.hub_url}"
      ],
      "metadata": {
        "id": "ozzOP7NubglF"
      },
      "execution_count": null,
      "outputs": []
    },
    {
      "cell_type": "code",
      "source": [
        "from keras.backend import sparse_categorical_crossentropy\n",
        "import numpy as np\n",
        "import tensorflow as tf\n",
        "from tensorflow.keras import Sequential\n",
        "from tensorflow.keras.layers import Dense\n",
        "\n",
        "model=Sequential([\n",
        "      tf.keras.layers.Dense(512),\n",
        "      tf.keras.layers.Dense(100),\n",
        "      tf.keras.layers.Dense(2),\n",
        "    ])\n",
        "\n",
        "from tensorflow.keras.losses import SparseCategoricalCrossentropy\n",
        "model.compile(loss=SparseCategoricalCrossentropy(from_logits=True),optimizer=tf.keras.optimizers.Adam(learning_rate=0.00001))\n",
        "history=model.fit(X_train,y_train,epochs=50,batch_size=32,validation_data=(X_cv,y_cv))"
      ],
      "metadata": {
        "colab": {
          "base_uri": "https://localhost:8080/"
        },
        "id": "Q8Gp9Dvmd9eW",
        "outputId": "de1e2742-dd3a-422c-d1d5-1c32a2ef6bd2"
      },
      "execution_count": 42,
      "outputs": [
        {
          "output_type": "stream",
          "name": "stdout",
          "text": [
            "Epoch 1/50\n",
            "928/928 [==============================] - 9s 9ms/step - loss: 0.6438 - val_loss: 0.5974\n",
            "Epoch 2/50\n",
            "928/928 [==============================] - 8s 9ms/step - loss: 0.5562 - val_loss: 0.5365\n",
            "Epoch 3/50\n",
            "928/928 [==============================] - 9s 10ms/step - loss: 0.5123 - val_loss: 0.5147\n",
            "Epoch 4/50\n",
            "928/928 [==============================] - 9s 10ms/step - loss: 0.4959 - val_loss: 0.5071\n",
            "Epoch 5/50\n",
            "928/928 [==============================] - 9s 10ms/step - loss: 0.4891 - val_loss: 0.5038\n",
            "Epoch 6/50\n",
            "928/928 [==============================] - 6s 7ms/step - loss: 0.4856 - val_loss: 0.5021\n",
            "Epoch 7/50\n",
            "928/928 [==============================] - 8s 8ms/step - loss: 0.4836 - val_loss: 0.5002\n",
            "Epoch 8/50\n",
            "928/928 [==============================] - 6s 7ms/step - loss: 0.4819 - val_loss: 0.5008\n",
            "Epoch 9/50\n",
            "928/928 [==============================] - 7s 8ms/step - loss: 0.4810 - val_loss: 0.4985\n",
            "Epoch 10/50\n",
            "928/928 [==============================] - 7s 7ms/step - loss: 0.4801 - val_loss: 0.4982\n",
            "Epoch 11/50\n",
            "928/928 [==============================] - 7s 8ms/step - loss: 0.4793 - val_loss: 0.4978\n",
            "Epoch 12/50\n",
            "928/928 [==============================] - 7s 7ms/step - loss: 0.4787 - val_loss: 0.4974\n",
            "Epoch 13/50\n",
            "928/928 [==============================] - 7s 8ms/step - loss: 0.4782 - val_loss: 0.4982\n",
            "Epoch 14/50\n",
            "928/928 [==============================] - 7s 8ms/step - loss: 0.4777 - val_loss: 0.4972\n",
            "Epoch 15/50\n",
            "928/928 [==============================] - 6s 7ms/step - loss: 0.4773 - val_loss: 0.4981\n",
            "Epoch 16/50\n",
            "928/928 [==============================] - 7s 8ms/step - loss: 0.4771 - val_loss: 0.4976\n",
            "Epoch 17/50\n",
            "928/928 [==============================] - 7s 7ms/step - loss: 0.4764 - val_loss: 0.4966\n",
            "Epoch 18/50\n",
            "928/928 [==============================] - 8s 8ms/step - loss: 0.4763 - val_loss: 0.4963\n",
            "Epoch 19/50\n",
            "928/928 [==============================] - 7s 7ms/step - loss: 0.4760 - val_loss: 0.4967\n",
            "Epoch 20/50\n",
            "928/928 [==============================] - 8s 9ms/step - loss: 0.4756 - val_loss: 0.4961\n",
            "Epoch 21/50\n",
            "928/928 [==============================] - 7s 7ms/step - loss: 0.4754 - val_loss: 0.4963\n",
            "Epoch 22/50\n",
            "928/928 [==============================] - 8s 9ms/step - loss: 0.4751 - val_loss: 0.4957\n",
            "Epoch 23/50\n",
            "928/928 [==============================] - 7s 8ms/step - loss: 0.4750 - val_loss: 0.4957\n",
            "Epoch 24/50\n",
            "928/928 [==============================] - 6s 7ms/step - loss: 0.4748 - val_loss: 0.4960\n",
            "Epoch 25/50\n",
            "928/928 [==============================] - 8s 8ms/step - loss: 0.4745 - val_loss: 0.4956\n",
            "Epoch 26/50\n",
            "928/928 [==============================] - 7s 7ms/step - loss: 0.4743 - val_loss: 0.4956\n",
            "Epoch 27/50\n",
            "928/928 [==============================] - 8s 8ms/step - loss: 0.4740 - val_loss: 0.4964\n",
            "Epoch 28/50\n",
            "928/928 [==============================] - 7s 7ms/step - loss: 0.4739 - val_loss: 0.4952\n",
            "Epoch 29/50\n",
            "928/928 [==============================] - 8s 8ms/step - loss: 0.4738 - val_loss: 0.4956\n",
            "Epoch 30/50\n",
            "928/928 [==============================] - 7s 7ms/step - loss: 0.4735 - val_loss: 0.4956\n",
            "Epoch 31/50\n",
            "928/928 [==============================] - 8s 8ms/step - loss: 0.4734 - val_loss: 0.4968\n",
            "Epoch 32/50\n",
            "928/928 [==============================] - 7s 7ms/step - loss: 0.4734 - val_loss: 0.4950\n",
            "Epoch 33/50\n",
            "928/928 [==============================] - 7s 8ms/step - loss: 0.4731 - val_loss: 0.4953\n",
            "Epoch 34/50\n",
            "928/928 [==============================] - 7s 8ms/step - loss: 0.4730 - val_loss: 0.4949\n",
            "Epoch 35/50\n",
            "928/928 [==============================] - 6s 7ms/step - loss: 0.4727 - val_loss: 0.4949\n",
            "Epoch 36/50\n",
            "928/928 [==============================] - 7s 8ms/step - loss: 0.4725 - val_loss: 0.4956\n",
            "Epoch 37/50\n",
            "928/928 [==============================] - 7s 7ms/step - loss: 0.4725 - val_loss: 0.4952\n",
            "Epoch 38/50\n",
            "928/928 [==============================] - 7s 8ms/step - loss: 0.4724 - val_loss: 0.4960\n",
            "Epoch 39/50\n",
            "928/928 [==============================] - 7s 7ms/step - loss: 0.4723 - val_loss: 0.4947\n",
            "Epoch 40/50\n",
            "928/928 [==============================] - 8s 8ms/step - loss: 0.4722 - val_loss: 0.4945\n",
            "Epoch 41/50\n",
            "928/928 [==============================] - 7s 7ms/step - loss: 0.4719 - val_loss: 0.4949\n",
            "Epoch 42/50\n",
            "928/928 [==============================] - 8s 8ms/step - loss: 0.4718 - val_loss: 0.4947\n",
            "Epoch 43/50\n",
            "928/928 [==============================] - 7s 7ms/step - loss: 0.4717 - val_loss: 0.4947\n",
            "Epoch 44/50\n",
            "928/928 [==============================] - 7s 8ms/step - loss: 0.4715 - val_loss: 0.4946\n",
            "Epoch 45/50\n",
            "928/928 [==============================] - 8s 8ms/step - loss: 0.4715 - val_loss: 0.4947\n",
            "Epoch 46/50\n",
            "928/928 [==============================] - 7s 7ms/step - loss: 0.4714 - val_loss: 0.4946\n",
            "Epoch 47/50\n",
            "928/928 [==============================] - 8s 8ms/step - loss: 0.4714 - val_loss: 0.4956\n",
            "Epoch 48/50\n",
            "928/928 [==============================] - 6s 7ms/step - loss: 0.4712 - val_loss: 0.4945\n",
            "Epoch 49/50\n",
            "928/928 [==============================] - 8s 8ms/step - loss: 0.4709 - val_loss: 0.4944\n",
            "Epoch 50/50\n",
            "928/928 [==============================] - 6s 7ms/step - loss: 0.4711 - val_loss: 0.4943\n"
          ]
        }
      ]
    },
    {
      "cell_type": "code",
      "source": [
        "hist=pd.DataFrame(history.history)\n",
        "hist['epoch']= history.epoch\n",
        "hist.tail()"
      ],
      "metadata": {
        "colab": {
          "base_uri": "https://localhost:8080/",
          "height": 206
        },
        "id": "mSjdPLekegt6",
        "outputId": "094bbe3f-30e4-4c16-fc93-bd89f46ebd07"
      },
      "execution_count": 43,
      "outputs": [
        {
          "output_type": "execute_result",
          "data": {
            "text/plain": [
              "        loss  val_loss  epoch\n",
              "45  0.471364  0.494616     45\n",
              "46  0.471424  0.495633     46\n",
              "47  0.471215  0.494451     47\n",
              "48  0.470920  0.494422     48\n",
              "49  0.471113  0.494344     49"
            ],
            "text/html": [
              "\n",
              "  <div id=\"df-46b3377a-8acb-4436-9565-200b094dea5c\">\n",
              "    <div class=\"colab-df-container\">\n",
              "      <div>\n",
              "<style scoped>\n",
              "    .dataframe tbody tr th:only-of-type {\n",
              "        vertical-align: middle;\n",
              "    }\n",
              "\n",
              "    .dataframe tbody tr th {\n",
              "        vertical-align: top;\n",
              "    }\n",
              "\n",
              "    .dataframe thead th {\n",
              "        text-align: right;\n",
              "    }\n",
              "</style>\n",
              "<table border=\"1\" class=\"dataframe\">\n",
              "  <thead>\n",
              "    <tr style=\"text-align: right;\">\n",
              "      <th></th>\n",
              "      <th>loss</th>\n",
              "      <th>val_loss</th>\n",
              "      <th>epoch</th>\n",
              "    </tr>\n",
              "  </thead>\n",
              "  <tbody>\n",
              "    <tr>\n",
              "      <th>45</th>\n",
              "      <td>0.471364</td>\n",
              "      <td>0.494616</td>\n",
              "      <td>45</td>\n",
              "    </tr>\n",
              "    <tr>\n",
              "      <th>46</th>\n",
              "      <td>0.471424</td>\n",
              "      <td>0.495633</td>\n",
              "      <td>46</td>\n",
              "    </tr>\n",
              "    <tr>\n",
              "      <th>47</th>\n",
              "      <td>0.471215</td>\n",
              "      <td>0.494451</td>\n",
              "      <td>47</td>\n",
              "    </tr>\n",
              "    <tr>\n",
              "      <th>48</th>\n",
              "      <td>0.470920</td>\n",
              "      <td>0.494422</td>\n",
              "      <td>48</td>\n",
              "    </tr>\n",
              "    <tr>\n",
              "      <th>49</th>\n",
              "      <td>0.471113</td>\n",
              "      <td>0.494344</td>\n",
              "      <td>49</td>\n",
              "    </tr>\n",
              "  </tbody>\n",
              "</table>\n",
              "</div>\n",
              "      <button class=\"colab-df-convert\" onclick=\"convertToInteractive('df-46b3377a-8acb-4436-9565-200b094dea5c')\"\n",
              "              title=\"Convert this dataframe to an interactive table.\"\n",
              "              style=\"display:none;\">\n",
              "        \n",
              "  <svg xmlns=\"http://www.w3.org/2000/svg\" height=\"24px\"viewBox=\"0 0 24 24\"\n",
              "       width=\"24px\">\n",
              "    <path d=\"M0 0h24v24H0V0z\" fill=\"none\"/>\n",
              "    <path d=\"M18.56 5.44l.94 2.06.94-2.06 2.06-.94-2.06-.94-.94-2.06-.94 2.06-2.06.94zm-11 1L8.5 8.5l.94-2.06 2.06-.94-2.06-.94L8.5 2.5l-.94 2.06-2.06.94zm10 10l.94 2.06.94-2.06 2.06-.94-2.06-.94-.94-2.06-.94 2.06-2.06.94z\"/><path d=\"M17.41 7.96l-1.37-1.37c-.4-.4-.92-.59-1.43-.59-.52 0-1.04.2-1.43.59L10.3 9.45l-7.72 7.72c-.78.78-.78 2.05 0 2.83L4 21.41c.39.39.9.59 1.41.59.51 0 1.02-.2 1.41-.59l7.78-7.78 2.81-2.81c.8-.78.8-2.07 0-2.86zM5.41 20L4 18.59l7.72-7.72 1.47 1.35L5.41 20z\"/>\n",
              "  </svg>\n",
              "      </button>\n",
              "      \n",
              "  <style>\n",
              "    .colab-df-container {\n",
              "      display:flex;\n",
              "      flex-wrap:wrap;\n",
              "      gap: 12px;\n",
              "    }\n",
              "\n",
              "    .colab-df-convert {\n",
              "      background-color: #E8F0FE;\n",
              "      border: none;\n",
              "      border-radius: 50%;\n",
              "      cursor: pointer;\n",
              "      display: none;\n",
              "      fill: #1967D2;\n",
              "      height: 32px;\n",
              "      padding: 0 0 0 0;\n",
              "      width: 32px;\n",
              "    }\n",
              "\n",
              "    .colab-df-convert:hover {\n",
              "      background-color: #E2EBFA;\n",
              "      box-shadow: 0px 1px 2px rgba(60, 64, 67, 0.3), 0px 1px 3px 1px rgba(60, 64, 67, 0.15);\n",
              "      fill: #174EA6;\n",
              "    }\n",
              "\n",
              "    [theme=dark] .colab-df-convert {\n",
              "      background-color: #3B4455;\n",
              "      fill: #D2E3FC;\n",
              "    }\n",
              "\n",
              "    [theme=dark] .colab-df-convert:hover {\n",
              "      background-color: #434B5C;\n",
              "      box-shadow: 0px 1px 3px 1px rgba(0, 0, 0, 0.15);\n",
              "      filter: drop-shadow(0px 1px 2px rgba(0, 0, 0, 0.3));\n",
              "      fill: #FFFFFF;\n",
              "    }\n",
              "  </style>\n",
              "\n",
              "      <script>\n",
              "        const buttonEl =\n",
              "          document.querySelector('#df-46b3377a-8acb-4436-9565-200b094dea5c button.colab-df-convert');\n",
              "        buttonEl.style.display =\n",
              "          google.colab.kernel.accessAllowed ? 'block' : 'none';\n",
              "\n",
              "        async function convertToInteractive(key) {\n",
              "          const element = document.querySelector('#df-46b3377a-8acb-4436-9565-200b094dea5c');\n",
              "          const dataTable =\n",
              "            await google.colab.kernel.invokeFunction('convertToInteractive',\n",
              "                                                     [key], {});\n",
              "          if (!dataTable) return;\n",
              "\n",
              "          const docLinkHtml = 'Like what you see? Visit the ' +\n",
              "            '<a target=\"_blank\" href=https://colab.research.google.com/notebooks/data_table.ipynb>data table notebook</a>'\n",
              "            + ' to learn more about interactive tables.';\n",
              "          element.innerHTML = '';\n",
              "          dataTable['output_type'] = 'display_data';\n",
              "          await google.colab.output.renderOutput(dataTable, element);\n",
              "          const docLink = document.createElement('div');\n",
              "          docLink.innerHTML = docLinkHtml;\n",
              "          element.appendChild(docLink);\n",
              "        }\n",
              "      </script>\n",
              "    </div>\n",
              "  </div>\n",
              "  "
            ]
          },
          "metadata": {},
          "execution_count": 43
        }
      ]
    },
    {
      "cell_type": "code",
      "source": [
        "import matplotlib.pyplot as plt\n",
        "\n",
        "plt.plot(hist['epoch'],hist['loss'],color='cyan',label='train loss')\n",
        "plt.plot(hist['epoch'],hist['val_loss'],color='blue',label='CV loss')\n",
        "plt.xlabel('epochs')\n",
        "plt.ylabel('loss')\n",
        "plt.legend()\n",
        "plt.show()"
      ],
      "metadata": {
        "colab": {
          "base_uri": "https://localhost:8080/",
          "height": 464
        },
        "id": "kgfLiL9aetGT",
        "outputId": "fd59f39f-3bb7-4b36-aab7-368c0cf8a8a9"
      },
      "execution_count": 44,
      "outputs": [
        {
          "output_type": "display_data",
          "data": {
            "text/plain": [
              "<Figure size 640x480 with 1 Axes>"
            ],
            "image/png": "[encoded data removed]"
          },
          "metadata": {}
        }
      ]
    },
    {
      "cell_type": "code",
      "source": [
        "from sklearn.linear_model import LogisticRegression, RidgeClassifier\n",
        "from sklearn.neighbors import KNeighborsClassifier\n",
        "from sklearn import metrics\n",
        "\n",
        "models = {}\n",
        "models['LogisticRegression'] = LogisticRegression(C=5, max_iter=1000)\n",
        "models['RidgeClassifier'] = RidgeClassifier(alpha=1.0, solver=\"sparse_cg\")\n",
        "models['KNeighborsClassifier'] = KNeighborsClassifier(n_neighbors=100)\n",
        "\n",
        "\n",
        "for model_name, model in models.items():\n",
        "    print(f\"Fitting {model_name}...\")\n",
        "    model.fit(X_train, y_train)\n",
        "\n",
        "\n",
        "    y_pred_cv = model.predict(X_cv)\n",
        "    y_pred_test = model.predict(X_test)\n",
        "\n",
        "    accuracy_cv = metrics.accuracy_score(y_cv, y_pred_cv)\n",
        "    accuracy_test = metrics.accuracy_score(y_test, y_pred_test)\n",
        "    print(f\"Training accuracy for validation set: {accuracy_cv}\")\n",
        "    print(f\"Training accuracy for test set: {accuracy_test}\")\n",
        "    print()"
      ],
      "metadata": {
        "colab": {
          "base_uri": "https://localhost:8080/"
        },
        "id": "6CEzFYxEgfqE",
        "outputId": "7be8ea65-035f-421e-a147-ca53dabce0dc"
      },
      "execution_count": 46,
      "outputs": [
        {
          "output_type": "stream",
          "name": "stdout",
          "text": [
            "Fitting LogisticRegression...\n",
            "Training accuracy for validation set: 0.7621261115602264\n",
            "Training accuracy for test set: 0.7748357756442648\n",
            "\n",
            "Fitting RidgeClassifier...\n",
            "Training accuracy for validation set: 0.7601050929668552\n",
            "Training accuracy for test set: 0.7732187973724103\n",
            "\n",
            "Fitting KNeighborsClassifier...\n",
            "Training accuracy for validation set: 0.7370654810024252\n",
            "Training accuracy for test set: 0.7539161192521475\n",
            "\n"
          ]
        }
      ]
    },
    {
      "cell_type": "code",
      "source": [],
      "metadata": {
        "id": "Dx3e0oBSg0vo"
      },
      "execution_count": null,
      "outputs": []
    }
  ]
}