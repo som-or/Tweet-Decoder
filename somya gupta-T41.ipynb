{
 "cells": [
  {
   "cell_type": "markdown",
   "metadata": {
    "id": "OFlA9PqYHnLD"
   },
   "source": [
    "**Click on File and save a copy in Drive.**"
   ]
  },
  {
   "cell_type": "markdown",
   "metadata": {
    "id": "RB2d1J1f1CF7"
   },
   "source": [
    "### **Aim**  \n",
    "The goal of this assignment is to make predictions using linear regression. We will be implementing the linear regression model from scratch. We have been provided with a hypothetical dataset of a company that wants to predict the price of a car. Our task is to build a linear regression model that can accurately predict the price of a car based on the given features in dataset.                                  \n",
    "**NOTE:** Data is hypothetical price of the car may be negative."
   ]
  },
  {
   "cell_type": "markdown",
   "metadata": {
    "id": "n66dPE0OpsVp"
   },
   "source": [
    "Import Libraries."
   ]
  },
  {
   "cell_type": "code",
   "execution_count": 1,
   "metadata": {
    "id": "CaY_sda_HdnP"
   },
   "outputs": [],
   "source": [
    "#importing libraries\n",
    "import pandas as pd\n",
    "import numpy as np"
   ]
  },
  {
   "cell_type": "markdown",
   "metadata": {
    "id": "a_S80lf6H4Xv"
   },
   "source": [
    "### Generating the dataset  \n",
    "Run the cell below to load the dataset. "
   ]
  },
  {
   "cell_type": "code",
   "execution_count": 2,
   "metadata": {
    "colab": {
     "base_uri": "https://localhost:8080/"
    },
    "id": "UaUQy8ImHc9z",
    "outputId": "196e2c2e-ab04-44fe-eb51-61faa0e5d82a"
   },
   "outputs": [
    {
     "ename": "ModuleNotFoundError",
     "evalue": "No module named 'google'",
     "output_type": "error",
     "traceback": [
      "\u001b[1;31m---------------------------------------------------------------------------\u001b[0m",
      "\u001b[1;31mModuleNotFoundError\u001b[0m                       Traceback (most recent call last)",
      "\u001b[1;32m~\\AppData\\Local\\Temp\\ipykernel_33628\\1408506528.py\u001b[0m in \u001b[0;36m<module>\u001b[1;34m\u001b[0m\n\u001b[1;32m----> 1\u001b[1;33m \u001b[1;32mfrom\u001b[0m \u001b[0mgoogle\u001b[0m\u001b[1;33m.\u001b[0m\u001b[0mcolab\u001b[0m \u001b[1;32mimport\u001b[0m \u001b[0mdrive\u001b[0m\u001b[1;33m\u001b[0m\u001b[1;33m\u001b[0m\u001b[0m\n\u001b[0m\u001b[0;32m      2\u001b[0m \u001b[0mdrive\u001b[0m\u001b[1;33m.\u001b[0m\u001b[0mmount\u001b[0m\u001b[1;33m(\u001b[0m\u001b[1;34m'/content/drive'\u001b[0m\u001b[1;33m)\u001b[0m\u001b[1;33m\u001b[0m\u001b[1;33m\u001b[0m\u001b[0m\n",
      "\u001b[1;31mModuleNotFoundError\u001b[0m: No module named 'google'"
     ]
    }
   ],
   "source": [
    "from google.colab import drive\n",
    "drive.mount('/content/drive')"
   ]
  },
  {
   "cell_type": "code",
   "execution_count": 4,
   "metadata": {
    "colab": {
     "base_uri": "https://localhost:8080/"
    },
    "id": "pbHQvbNqq6OQ",
    "outputId": "36d66029-086d-4c02-93e7-4b37c1d6a8d1"
   },
   "outputs": [
    {
     "name": "stdout",
     "output_type": "stream",
     "text": [
      "/usr/local/lib/python3.9/dist-packages/gdown/cli.py:121: FutureWarning: Option `--id` was deprecated in version 4.3.1 and will be removed in 5.0. You don't need to pass it anymore to use a file ID.\n",
      "  warnings.warn(\n",
      "Downloading...\n",
      "From: https://drive.google.com/uc?id=1kjUHAjfl2FGx5tZ219EzyOJiAwTsqjbO\n",
      "To: /content/car_dataa.csv\n",
      "100% 34.2k/34.2k [00:00<00:00, 24.3MB/s]\n"
     ]
    }
   ],
   "source": [
    "!gdown --id 1kjUHAjfl2FGx5tZ219EzyOJiAwTsqjbO"
   ]
  },
  {
   "cell_type": "code",
   "execution_count": 5,
   "metadata": {
    "colab": {
     "base_uri": "https://localhost:8080/",
     "height": 423
    },
    "id": "RRdj03aPHfrj",
    "outputId": "a4872d27-33ab-4eb1-afb7-8cacec655f80"
   },
   "outputs": [
    {
     "data": {
      "text/html": [
       "\n",
       "  <div id=\"df-38444da4-2115-4822-9eae-ee6d47c59674\">\n",
       "    <div class=\"colab-df-container\">\n",
       "      <div>\n",
       "<style scoped>\n",
       "    .dataframe tbody tr th:only-of-type {\n",
       "        vertical-align: middle;\n",
       "    }\n",
       "\n",
       "    .dataframe tbody tr th {\n",
       "        vertical-align: top;\n",
       "    }\n",
       "\n",
       "    .dataframe thead th {\n",
       "        text-align: right;\n",
       "    }\n",
       "</style>\n",
       "<table border=\"1\" class=\"dataframe\">\n",
       "  <thead>\n",
       "    <tr style=\"text-align: right;\">\n",
       "      <th></th>\n",
       "      <th>Car_Name</th>\n",
       "      <th>Year</th>\n",
       "      <th>Selling_Price</th>\n",
       "      <th>Present_Price</th>\n",
       "      <th>Kms_Driven</th>\n",
       "      <th>Fuel_Type</th>\n",
       "      <th>Seller_Type</th>\n",
       "      <th>Transmission</th>\n",
       "      <th>Owner</th>\n",
       "    </tr>\n",
       "  </thead>\n",
       "  <tbody>\n",
       "    <tr>\n",
       "      <th>0</th>\n",
       "      <td>ritz</td>\n",
       "      <td>-0.860155</td>\n",
       "      <td>-94.188683</td>\n",
       "      <td>-0.410123</td>\n",
       "      <td>0.612850</td>\n",
       "      <td>Petrol</td>\n",
       "      <td>Dealer</td>\n",
       "      <td>Manual</td>\n",
       "      <td>0</td>\n",
       "    </tr>\n",
       "    <tr>\n",
       "      <th>1</th>\n",
       "      <td>sx4</td>\n",
       "      <td>-0.097043</td>\n",
       "      <td>15.276170</td>\n",
       "      <td>0.647960</td>\n",
       "      <td>-1.874549</td>\n",
       "      <td>Diesel</td>\n",
       "      <td>Dealer</td>\n",
       "      <td>Manual</td>\n",
       "      <td>0</td>\n",
       "    </tr>\n",
       "    <tr>\n",
       "      <th>2</th>\n",
       "      <td>ciaz</td>\n",
       "      <td>-0.402870</td>\n",
       "      <td>69.755387</td>\n",
       "      <td>0.457906</td>\n",
       "      <td>2.125322</td>\n",
       "      <td>Petrol</td>\n",
       "      <td>Dealer</td>\n",
       "      <td>Manual</td>\n",
       "      <td>0</td>\n",
       "    </tr>\n",
       "    <tr>\n",
       "      <th>3</th>\n",
       "      <td>wagon r</td>\n",
       "      <td>-0.480849</td>\n",
       "      <td>-61.144535</td>\n",
       "      <td>-0.079979</td>\n",
       "      <td>0.038635</td>\n",
       "      <td>Petrol</td>\n",
       "      <td>Dealer</td>\n",
       "      <td>Manual</td>\n",
       "      <td>0</td>\n",
       "    </tr>\n",
       "    <tr>\n",
       "      <th>4</th>\n",
       "      <td>swift</td>\n",
       "      <td>-2.223520</td>\n",
       "      <td>-40.620491</td>\n",
       "      <td>1.898574</td>\n",
       "      <td>-0.468699</td>\n",
       "      <td>Diesel</td>\n",
       "      <td>Dealer</td>\n",
       "      <td>Manual</td>\n",
       "      <td>0</td>\n",
       "    </tr>\n",
       "    <tr>\n",
       "      <th>...</th>\n",
       "      <td>...</td>\n",
       "      <td>...</td>\n",
       "      <td>...</td>\n",
       "      <td>...</td>\n",
       "      <td>...</td>\n",
       "      <td>...</td>\n",
       "      <td>...</td>\n",
       "      <td>...</td>\n",
       "      <td>...</td>\n",
       "    </tr>\n",
       "    <tr>\n",
       "      <th>296</th>\n",
       "      <td>city</td>\n",
       "      <td>1.007247</td>\n",
       "      <td>20.693798</td>\n",
       "      <td>-1.083003</td>\n",
       "      <td>-0.229690</td>\n",
       "      <td>Diesel</td>\n",
       "      <td>Dealer</td>\n",
       "      <td>Manual</td>\n",
       "      <td>0</td>\n",
       "    </tr>\n",
       "    <tr>\n",
       "      <th>297</th>\n",
       "      <td>brio</td>\n",
       "      <td>1.721243</td>\n",
       "      <td>87.938514</td>\n",
       "      <td>-0.859128</td>\n",
       "      <td>0.378223</td>\n",
       "      <td>Petrol</td>\n",
       "      <td>Dealer</td>\n",
       "      <td>Manual</td>\n",
       "      <td>0</td>\n",
       "    </tr>\n",
       "    <tr>\n",
       "      <th>298</th>\n",
       "      <td>city</td>\n",
       "      <td>-0.171465</td>\n",
       "      <td>-154.588890</td>\n",
       "      <td>-0.944369</td>\n",
       "      <td>-0.495819</td>\n",
       "      <td>Petrol</td>\n",
       "      <td>Dealer</td>\n",
       "      <td>Manual</td>\n",
       "      <td>0</td>\n",
       "    </tr>\n",
       "    <tr>\n",
       "      <th>299</th>\n",
       "      <td>city</td>\n",
       "      <td>-0.605274</td>\n",
       "      <td>171.969714</td>\n",
       "      <td>2.360360</td>\n",
       "      <td>-0.057051</td>\n",
       "      <td>Diesel</td>\n",
       "      <td>Dealer</td>\n",
       "      <td>Manual</td>\n",
       "      <td>0</td>\n",
       "    </tr>\n",
       "    <tr>\n",
       "      <th>300</th>\n",
       "      <td>brio</td>\n",
       "      <td>1.812287</td>\n",
       "      <td>35.857232</td>\n",
       "      <td>-1.312873</td>\n",
       "      <td>0.155835</td>\n",
       "      <td>Petrol</td>\n",
       "      <td>Dealer</td>\n",
       "      <td>Manual</td>\n",
       "      <td>0</td>\n",
       "    </tr>\n",
       "  </tbody>\n",
       "</table>\n",
       "<p>301 rows × 9 columns</p>\n",
       "</div>\n",
       "      <button class=\"colab-df-convert\" onclick=\"convertToInteractive('df-38444da4-2115-4822-9eae-ee6d47c59674')\"\n",
       "              title=\"Convert this dataframe to an interactive table.\"\n",
       "              style=\"display:none;\">\n",
       "        \n",
       "  <svg xmlns=\"http://www.w3.org/2000/svg\" height=\"24px\"viewBox=\"0 0 24 24\"\n",
       "       width=\"24px\">\n",
       "    <path d=\"M0 0h24v24H0V0z\" fill=\"none\"/>\n",
       "    <path d=\"M18.56 5.44l.94 2.06.94-2.06 2.06-.94-2.06-.94-.94-2.06-.94 2.06-2.06.94zm-11 1L8.5 8.5l.94-2.06 2.06-.94-2.06-.94L8.5 2.5l-.94 2.06-2.06.94zm10 10l.94 2.06.94-2.06 2.06-.94-2.06-.94-.94-2.06-.94 2.06-2.06.94z\"/><path d=\"M17.41 7.96l-1.37-1.37c-.4-.4-.92-.59-1.43-.59-.52 0-1.04.2-1.43.59L10.3 9.45l-7.72 7.72c-.78.78-.78 2.05 0 2.83L4 21.41c.39.39.9.59 1.41.59.51 0 1.02-.2 1.41-.59l7.78-7.78 2.81-2.81c.8-.78.8-2.07 0-2.86zM5.41 20L4 18.59l7.72-7.72 1.47 1.35L5.41 20z\"/>\n",
       "  </svg>\n",
       "      </button>\n",
       "      \n",
       "  <style>\n",
       "    .colab-df-container {\n",
       "      display:flex;\n",
       "      flex-wrap:wrap;\n",
       "      gap: 12px;\n",
       "    }\n",
       "\n",
       "    .colab-df-convert {\n",
       "      background-color: #E8F0FE;\n",
       "      border: none;\n",
       "      border-radius: 50%;\n",
       "      cursor: pointer;\n",
       "      display: none;\n",
       "      fill: #1967D2;\n",
       "      height: 32px;\n",
       "      padding: 0 0 0 0;\n",
       "      width: 32px;\n",
       "    }\n",
       "\n",
       "    .colab-df-convert:hover {\n",
       "      background-color: #E2EBFA;\n",
       "      box-shadow: 0px 1px 2px rgba(60, 64, 67, 0.3), 0px 1px 3px 1px rgba(60, 64, 67, 0.15);\n",
       "      fill: #174EA6;\n",
       "    }\n",
       "\n",
       "    [theme=dark] .colab-df-convert {\n",
       "      background-color: #3B4455;\n",
       "      fill: #D2E3FC;\n",
       "    }\n",
       "\n",
       "    [theme=dark] .colab-df-convert:hover {\n",
       "      background-color: #434B5C;\n",
       "      box-shadow: 0px 1px 3px 1px rgba(0, 0, 0, 0.15);\n",
       "      filter: drop-shadow(0px 1px 2px rgba(0, 0, 0, 0.3));\n",
       "      fill: #FFFFFF;\n",
       "    }\n",
       "  </style>\n",
       "\n",
       "      <script>\n",
       "        const buttonEl =\n",
       "          document.querySelector('#df-38444da4-2115-4822-9eae-ee6d47c59674 button.colab-df-convert');\n",
       "        buttonEl.style.display =\n",
       "          google.colab.kernel.accessAllowed ? 'block' : 'none';\n",
       "\n",
       "        async function convertToInteractive(key) {\n",
       "          const element = document.querySelector('#df-38444da4-2115-4822-9eae-ee6d47c59674');\n",
       "          const dataTable =\n",
       "            await google.colab.kernel.invokeFunction('convertToInteractive',\n",
       "                                                     [key], {});\n",
       "          if (!dataTable) return;\n",
       "\n",
       "          const docLinkHtml = 'Like what you see? Visit the ' +\n",
       "            '<a target=\"_blank\" href=https://colab.research.google.com/notebooks/data_table.ipynb>data table notebook</a>'\n",
       "            + ' to learn more about interactive tables.';\n",
       "          element.innerHTML = '';\n",
       "          dataTable['output_type'] = 'display_data';\n",
       "          await google.colab.output.renderOutput(dataTable, element);\n",
       "          const docLink = document.createElement('div');\n",
       "          docLink.innerHTML = docLinkHtml;\n",
       "          element.appendChild(docLink);\n",
       "        }\n",
       "      </script>\n",
       "    </div>\n",
       "  </div>\n",
       "  "
      ],
      "text/plain": [
       "    Car_Name      Year  Selling_Price  Present_Price  Kms_Driven Fuel_Type  \\\n",
       "0       ritz -0.860155     -94.188683      -0.410123    0.612850    Petrol   \n",
       "1        sx4 -0.097043      15.276170       0.647960   -1.874549    Diesel   \n",
       "2       ciaz -0.402870      69.755387       0.457906    2.125322    Petrol   \n",
       "3    wagon r -0.480849     -61.144535      -0.079979    0.038635    Petrol   \n",
       "4      swift -2.223520     -40.620491       1.898574   -0.468699    Diesel   \n",
       "..       ...       ...            ...            ...         ...       ...   \n",
       "296     city  1.007247      20.693798      -1.083003   -0.229690    Diesel   \n",
       "297     brio  1.721243      87.938514      -0.859128    0.378223    Petrol   \n",
       "298     city -0.171465    -154.588890      -0.944369   -0.495819    Petrol   \n",
       "299     city -0.605274     171.969714       2.360360   -0.057051    Diesel   \n",
       "300     brio  1.812287      35.857232      -1.312873    0.155835    Petrol   \n",
       "\n",
       "    Seller_Type Transmission  Owner  \n",
       "0        Dealer       Manual      0  \n",
       "1        Dealer       Manual      0  \n",
       "2        Dealer       Manual      0  \n",
       "3        Dealer       Manual      0  \n",
       "4        Dealer       Manual      0  \n",
       "..          ...          ...    ...  \n",
       "296      Dealer       Manual      0  \n",
       "297      Dealer       Manual      0  \n",
       "298      Dealer       Manual      0  \n",
       "299      Dealer       Manual      0  \n",
       "300      Dealer       Manual      0  \n",
       "\n",
       "[301 rows x 9 columns]"
      ]
     },
     "execution_count": 5,
     "metadata": {},
     "output_type": "execute_result"
    }
   ],
   "source": [
    "df=pd.read_csv('/content/car_dataa.csv')\n",
    "df"
   ]
  },
  {
   "cell_type": "markdown",
   "metadata": {
    "id": "lCcyBNlVpyBZ"
   },
   "source": [
    "Delete Unwanted Columns like Car_Name, Fuel_Type, Seller_Type, Owner, Transmission. Use del function:- del df['Car_Name'] deletes that column."
   ]
  },
  {
   "cell_type": "code",
   "execution_count": 6,
   "metadata": {
    "id": "JBbEglt6I-3i"
   },
   "outputs": [],
   "source": [
    "del df['Transmission']\n",
    "del df['Car_Name']\n",
    "del df['Fuel_Type']\n",
    "del df['Seller_Type']\n",
    "del df['Owner']"
   ]
  },
  {
   "cell_type": "code",
   "execution_count": 7,
   "metadata": {
    "colab": {
     "base_uri": "https://localhost:8080/",
     "height": 423
    },
    "id": "8St8KAUqC6jk",
    "outputId": "0b778595-5145-4895-d841-65a1d3b258b3"
   },
   "outputs": [
    {
     "data": {
      "text/html": [
       "\n",
       "  <div id=\"df-64eb90d9-a9ed-4666-aafc-fa0984689b45\">\n",
       "    <div class=\"colab-df-container\">\n",
       "      <div>\n",
       "<style scoped>\n",
       "    .dataframe tbody tr th:only-of-type {\n",
       "        vertical-align: middle;\n",
       "    }\n",
       "\n",
       "    .dataframe tbody tr th {\n",
       "        vertical-align: top;\n",
       "    }\n",
       "\n",
       "    .dataframe thead th {\n",
       "        text-align: right;\n",
       "    }\n",
       "</style>\n",
       "<table border=\"1\" class=\"dataframe\">\n",
       "  <thead>\n",
       "    <tr style=\"text-align: right;\">\n",
       "      <th></th>\n",
       "      <th>Year</th>\n",
       "      <th>Selling_Price</th>\n",
       "      <th>Present_Price</th>\n",
       "      <th>Kms_Driven</th>\n",
       "    </tr>\n",
       "  </thead>\n",
       "  <tbody>\n",
       "    <tr>\n",
       "      <th>0</th>\n",
       "      <td>-0.860155</td>\n",
       "      <td>-94.188683</td>\n",
       "      <td>-0.410123</td>\n",
       "      <td>0.612850</td>\n",
       "    </tr>\n",
       "    <tr>\n",
       "      <th>1</th>\n",
       "      <td>-0.097043</td>\n",
       "      <td>15.276170</td>\n",
       "      <td>0.647960</td>\n",
       "      <td>-1.874549</td>\n",
       "    </tr>\n",
       "    <tr>\n",
       "      <th>2</th>\n",
       "      <td>-0.402870</td>\n",
       "      <td>69.755387</td>\n",
       "      <td>0.457906</td>\n",
       "      <td>2.125322</td>\n",
       "    </tr>\n",
       "    <tr>\n",
       "      <th>3</th>\n",
       "      <td>-0.480849</td>\n",
       "      <td>-61.144535</td>\n",
       "      <td>-0.079979</td>\n",
       "      <td>0.038635</td>\n",
       "    </tr>\n",
       "    <tr>\n",
       "      <th>4</th>\n",
       "      <td>-2.223520</td>\n",
       "      <td>-40.620491</td>\n",
       "      <td>1.898574</td>\n",
       "      <td>-0.468699</td>\n",
       "    </tr>\n",
       "    <tr>\n",
       "      <th>...</th>\n",
       "      <td>...</td>\n",
       "      <td>...</td>\n",
       "      <td>...</td>\n",
       "      <td>...</td>\n",
       "    </tr>\n",
       "    <tr>\n",
       "      <th>296</th>\n",
       "      <td>1.007247</td>\n",
       "      <td>20.693798</td>\n",
       "      <td>-1.083003</td>\n",
       "      <td>-0.229690</td>\n",
       "    </tr>\n",
       "    <tr>\n",
       "      <th>297</th>\n",
       "      <td>1.721243</td>\n",
       "      <td>87.938514</td>\n",
       "      <td>-0.859128</td>\n",
       "      <td>0.378223</td>\n",
       "    </tr>\n",
       "    <tr>\n",
       "      <th>298</th>\n",
       "      <td>-0.171465</td>\n",
       "      <td>-154.588890</td>\n",
       "      <td>-0.944369</td>\n",
       "      <td>-0.495819</td>\n",
       "    </tr>\n",
       "    <tr>\n",
       "      <th>299</th>\n",
       "      <td>-0.605274</td>\n",
       "      <td>171.969714</td>\n",
       "      <td>2.360360</td>\n",
       "      <td>-0.057051</td>\n",
       "    </tr>\n",
       "    <tr>\n",
       "      <th>300</th>\n",
       "      <td>1.812287</td>\n",
       "      <td>35.857232</td>\n",
       "      <td>-1.312873</td>\n",
       "      <td>0.155835</td>\n",
       "    </tr>\n",
       "  </tbody>\n",
       "</table>\n",
       "<p>301 rows × 4 columns</p>\n",
       "</div>\n",
       "      <button class=\"colab-df-convert\" onclick=\"convertToInteractive('df-64eb90d9-a9ed-4666-aafc-fa0984689b45')\"\n",
       "              title=\"Convert this dataframe to an interactive table.\"\n",
       "              style=\"display:none;\">\n",
       "        \n",
       "  <svg xmlns=\"http://www.w3.org/2000/svg\" height=\"24px\"viewBox=\"0 0 24 24\"\n",
       "       width=\"24px\">\n",
       "    <path d=\"M0 0h24v24H0V0z\" fill=\"none\"/>\n",
       "    <path d=\"M18.56 5.44l.94 2.06.94-2.06 2.06-.94-2.06-.94-.94-2.06-.94 2.06-2.06.94zm-11 1L8.5 8.5l.94-2.06 2.06-.94-2.06-.94L8.5 2.5l-.94 2.06-2.06.94zm10 10l.94 2.06.94-2.06 2.06-.94-2.06-.94-.94-2.06-.94 2.06-2.06.94z\"/><path d=\"M17.41 7.96l-1.37-1.37c-.4-.4-.92-.59-1.43-.59-.52 0-1.04.2-1.43.59L10.3 9.45l-7.72 7.72c-.78.78-.78 2.05 0 2.83L4 21.41c.39.39.9.59 1.41.59.51 0 1.02-.2 1.41-.59l7.78-7.78 2.81-2.81c.8-.78.8-2.07 0-2.86zM5.41 20L4 18.59l7.72-7.72 1.47 1.35L5.41 20z\"/>\n",
       "  </svg>\n",
       "      </button>\n",
       "      \n",
       "  <style>\n",
       "    .colab-df-container {\n",
       "      display:flex;\n",
       "      flex-wrap:wrap;\n",
       "      gap: 12px;\n",
       "    }\n",
       "\n",
       "    .colab-df-convert {\n",
       "      background-color: #E8F0FE;\n",
       "      border: none;\n",
       "      border-radius: 50%;\n",
       "      cursor: pointer;\n",
       "      display: none;\n",
       "      fill: #1967D2;\n",
       "      height: 32px;\n",
       "      padding: 0 0 0 0;\n",
       "      width: 32px;\n",
       "    }\n",
       "\n",
       "    .colab-df-convert:hover {\n",
       "      background-color: #E2EBFA;\n",
       "      box-shadow: 0px 1px 2px rgba(60, 64, 67, 0.3), 0px 1px 3px 1px rgba(60, 64, 67, 0.15);\n",
       "      fill: #174EA6;\n",
       "    }\n",
       "\n",
       "    [theme=dark] .colab-df-convert {\n",
       "      background-color: #3B4455;\n",
       "      fill: #D2E3FC;\n",
       "    }\n",
       "\n",
       "    [theme=dark] .colab-df-convert:hover {\n",
       "      background-color: #434B5C;\n",
       "      box-shadow: 0px 1px 3px 1px rgba(0, 0, 0, 0.15);\n",
       "      filter: drop-shadow(0px 1px 2px rgba(0, 0, 0, 0.3));\n",
       "      fill: #FFFFFF;\n",
       "    }\n",
       "  </style>\n",
       "\n",
       "      <script>\n",
       "        const buttonEl =\n",
       "          document.querySelector('#df-64eb90d9-a9ed-4666-aafc-fa0984689b45 button.colab-df-convert');\n",
       "        buttonEl.style.display =\n",
       "          google.colab.kernel.accessAllowed ? 'block' : 'none';\n",
       "\n",
       "        async function convertToInteractive(key) {\n",
       "          const element = document.querySelector('#df-64eb90d9-a9ed-4666-aafc-fa0984689b45');\n",
       "          const dataTable =\n",
       "            await google.colab.kernel.invokeFunction('convertToInteractive',\n",
       "                                                     [key], {});\n",
       "          if (!dataTable) return;\n",
       "\n",
       "          const docLinkHtml = 'Like what you see? Visit the ' +\n",
       "            '<a target=\"_blank\" href=https://colab.research.google.com/notebooks/data_table.ipynb>data table notebook</a>'\n",
       "            + ' to learn more about interactive tables.';\n",
       "          element.innerHTML = '';\n",
       "          dataTable['output_type'] = 'display_data';\n",
       "          await google.colab.output.renderOutput(dataTable, element);\n",
       "          const docLink = document.createElement('div');\n",
       "          docLink.innerHTML = docLinkHtml;\n",
       "          element.appendChild(docLink);\n",
       "        }\n",
       "      </script>\n",
       "    </div>\n",
       "  </div>\n",
       "  "
      ],
      "text/plain": [
       "         Year  Selling_Price  Present_Price  Kms_Driven\n",
       "0   -0.860155     -94.188683      -0.410123    0.612850\n",
       "1   -0.097043      15.276170       0.647960   -1.874549\n",
       "2   -0.402870      69.755387       0.457906    2.125322\n",
       "3   -0.480849     -61.144535      -0.079979    0.038635\n",
       "4   -2.223520     -40.620491       1.898574   -0.468699\n",
       "..        ...            ...            ...         ...\n",
       "296  1.007247      20.693798      -1.083003   -0.229690\n",
       "297  1.721243      87.938514      -0.859128    0.378223\n",
       "298 -0.171465    -154.588890      -0.944369   -0.495819\n",
       "299 -0.605274     171.969714       2.360360   -0.057051\n",
       "300  1.812287      35.857232      -1.312873    0.155835\n",
       "\n",
       "[301 rows x 4 columns]"
      ]
     },
     "execution_count": 7,
     "metadata": {},
     "output_type": "execute_result"
    }
   ],
   "source": [
    "df"
   ]
  },
  {
   "cell_type": "markdown",
   "metadata": {
    "id": "kBuci9AnrZZC"
   },
   "source": [
    "Take out Selling price as y and other column as X"
   ]
  },
  {
   "cell_type": "code",
   "execution_count": 8,
   "metadata": {
    "id": "Qa2YPiv4JZbO"
   },
   "outputs": [],
   "source": [
    "y=df[['Selling_Price']]\n",
    "y=np.array(y)\n",
    "X=df[['Year','Present_Price','Kms_Driven']]\n",
    "X=np.array(X)"
   ]
  },
  {
   "cell_type": "code",
   "execution_count": 9,
   "metadata": {
    "colab": {
     "base_uri": "https://localhost:8080/"
    },
    "id": "dtSMrXpkJ0dG",
    "outputId": "77c53149-ecb3-4dfc-ae93-39242fc063cb"
   },
   "outputs": [
    {
     "data": {
      "text/plain": [
       "(301, 3)"
      ]
     },
     "execution_count": 9,
     "metadata": {},
     "output_type": "execute_result"
    }
   ],
   "source": [
    "#Check the shape of X\n",
    "X.shape"
   ]
  },
  {
   "cell_type": "code",
   "execution_count": 10,
   "metadata": {
    "colab": {
     "base_uri": "https://localhost:8080/"
    },
    "id": "S32jGhRBJ15O",
    "outputId": "ca7ddddf-cda8-48bc-de71-599f0d82ac31"
   },
   "outputs": [
    {
     "data": {
      "text/plain": [
       "(301, 1)"
      ]
     },
     "execution_count": 10,
     "metadata": {},
     "output_type": "execute_result"
    }
   ],
   "source": [
    "#Check the shape of y\n",
    "y.shape"
   ]
  },
  {
   "cell_type": "code",
   "execution_count": 11,
   "metadata": {
    "colab": {
     "base_uri": "https://localhost:8080/"
    },
    "id": "4i1ttby8MFJa",
    "outputId": "ca0b65dc-0b7b-48fd-caa6-aba5b6d11d10"
   },
   "outputs": [
    {
     "name": "stdout",
     "output_type": "stream",
     "text": [
      "[[-0.860155   -0.41012273  0.61284992]\n",
      " [-0.09704295  0.64796008 -1.87454934]\n",
      " [-0.40286978  0.45790622  2.12532215]\n",
      " [-0.48084914 -0.07997949  0.03863521]\n",
      " [-2.22351957  1.89857356 -0.46869942]]\n"
     ]
    }
   ],
   "source": [
    "#print X and check\n",
    "print(X[:5,:])\n"
   ]
  },
  {
   "cell_type": "code",
   "execution_count": 12,
   "metadata": {
    "colab": {
     "base_uri": "https://localhost:8080/"
    },
    "id": "wQgCopUYLdxV",
    "outputId": "0c460677-07e4-4e0a-ca7f-f49f6ff3a446"
   },
   "outputs": [
    {
     "name": "stdout",
     "output_type": "stream",
     "text": [
      "[[-94.1886835 ]\n",
      " [ 15.27616998]\n",
      " [ 69.75538672]\n",
      " [-61.14453516]\n",
      " [-40.62049081]]\n"
     ]
    }
   ],
   "source": [
    "# print y and check\n",
    "print(y[:5,:])"
   ]
  },
  {
   "cell_type": "code",
   "execution_count": 13,
   "metadata": {
    "id": "yX0zqXcHIQHP"
   },
   "outputs": [],
   "source": [
    "#Divide data into train and test using train_test_split\n",
    "from sklearn import datasets\n",
    "from sklearn.model_selection import train_test_split\n",
    "X_train, X_test, y_train, y_test = train_test_split(X, y, test_size=0.2, random_state=1234)"
   ]
  },
  {
   "cell_type": "code",
   "execution_count": 14,
   "metadata": {
    "colab": {
     "base_uri": "https://localhost:8080/"
    },
    "id": "7z5E17YkG-z2",
    "outputId": "1e530416-deae-4023-fa0e-2a77e3c4f3c4"
   },
   "outputs": [
    {
     "name": "stdout",
     "output_type": "stream",
     "text": [
      "(240, 3)\n",
      "(61, 3)\n"
     ]
    }
   ],
   "source": [
    "#find shape of X\n",
    "print(X_train.shape)\n",
    "print(X_test.shape)\n"
   ]
  },
  {
   "cell_type": "code",
   "execution_count": 15,
   "metadata": {
    "colab": {
     "base_uri": "https://localhost:8080/"
    },
    "id": "xyWWV-rxFSiU",
    "outputId": "e8474d54-1384-4bab-97ba-602cef8a7af2"
   },
   "outputs": [
    {
     "name": "stdout",
     "output_type": "stream",
     "text": [
      "(240, 1)\n",
      "(61, 1)\n"
     ]
    }
   ],
   "source": [
    "#find shape of X\n",
    "print(y_train.shape)\n",
    "print(y_test.shape)\n"
   ]
  },
  {
   "cell_type": "markdown",
   "metadata": {
    "id": "Zj4rrRXGJBXy"
   },
   "source": [
    "### Visualizing the data  \n",
    "Use `matplotlib` to visualize the given data."
   ]
  },
  {
   "cell_type": "code",
   "execution_count": 16,
   "metadata": {
    "colab": {
     "base_uri": "https://localhost:8080/",
     "height": 1000
    },
    "id": "zxfi8dkBJOUi",
    "outputId": "ef42d8aa-a5bc-4bbd-af93-4f0d96650485"
   },
   "outputs": [
    {
     "data": {
      "image/png": "[encoded data removed]",
      "text/plain": [
       "<Figure size 640x480 with 1 Axes>"
      ]
     },
     "metadata": {},
     "output_type": "display_data"
    },
    {
     "data": {
      "image/png": "[encoded data removed]",
      "text/plain": [
       "<Figure size 640x480 with 1 Axes>"
      ]
     },
     "metadata": {},
     "output_type": "display_data"
    },
    {
     "data": {
      "image/png": "[encoded data removed]",
      "text/plain": [
       "<Figure size 640x480 with 1 Axes>"
      ]
     },
     "metadata": {},
     "output_type": "display_data"
    }
   ],
   "source": [
    "import matplotlib.pyplot as plt\n",
    "\n",
    "\n",
    "# Your code here\n",
    "for i in range(3):\n",
    "  plt.scatter(X[:,i],y,c=\"blue\")\n",
    "  plt.xlabel(\"features\"+str(i))\n",
    "  plt.ylabel(\"target\")\n",
    "  plt.show()"
   ]
  },
  {
   "cell_type": "markdown",
   "metadata": {
    "id": "r7vndSBAJceF"
   },
   "source": [
    "You should be able to see the linear relations between `y` and the features in vector `X`."
   ]
  },
  {
   "cell_type": "markdown",
   "metadata": {
    "id": "b4I9Z3epNvBM"
   },
   "source": [
    "### Gradient Descent Review  \n",
    "1. ####  Cost function\n",
    "Define the `cost function` to measure the difference between predictions and target outputs. Here, we are working with first degree polynomial, so derivatives are easy to calculate. ( Linear function `y = wx +b` )  \n",
    "\n",
    "$$Error = \\frac{1}{N}\\sum_{i=1}^N (y_i - \\overline{y}_i)^2 = \\frac{1}{N}\\sum_{i=1}^N (y_i - (x_iw+b))^2 $$  \n",
    "\n",
    "  where `N` is the number of samples  \n",
    "    \n",
    "\n",
    "\n",
    "2. #### Compute the derivative\n",
    "$$\\frac{\\delta Error}{\\delta w} = \\frac{2}{N}\\sum_{i=1}^N -x_i(y_i -(m  x_i +b ))  $$\n",
    "$$\\frac{\\delta Error}{\\delta b} = \\frac{2}{N}\\sum_{i=1}^N -(y_i -(m  x_i +b ))  $$\n",
    "3. <h4>Update current parameters</h4>\n",
    "$$ w:= w- learning\\_rate \\cdot \\frac{\\delta Error}{\\delta w}   $$ \n",
    "$$ b:= b- learning\\_rate \\cdot \\frac{\\delta Error}{\\delta b}   $$ \n",
    "4. <h4>Repeat until it fits good enough</h4>\n"
   ]
  },
  {
   "cell_type": "markdown",
   "metadata": {
    "id": "kBtUcOVnJu-I"
   },
   "source": [
    "### Model definition\n",
    "\n",
    "Complete the functions in the class below. Hints provided at appropriate places."
   ]
  },
  {
   "cell_type": "code",
   "execution_count": 29,
   "metadata": {
    "id": "dGnFNPJx3I28"
   },
   "outputs": [],
   "source": [
    "\n",
    "import numpy as np\n",
    "\n",
    "class LinearRegression:\n",
    "\n",
    "    # The __init__ is called when we make any object of our class. Here, you are to specify the default values for \n",
    "    # Learning Rate, Number of Iterations, Weights and Biases. It doesn't return anything.\n",
    "    # Hint: Google what a `self pointer` is and figure out how it can be used here.\n",
    "    def __init__(self, learning_rate=0.001, n_iters=1000):\n",
    "        self.lr=learning_rate\n",
    "        self.n_iters=n_iters\n",
    "\n",
    "    # The following function would be the heart of the model. This is where the training would happen. \n",
    "    # You're supposed to iterate and keep on updating the weights and biases according to the steps of Gradient Descent.\n",
    "    def fit(self, X, y):\n",
    "        \n",
    "        \n",
    "        # init parameters\n",
    "        self.weights =np.array([50,100,100])\n",
    "        self.bias =10\n",
    "        m,n=X.shape\n",
    "        # gradient descent\n",
    "    \n",
    "\n",
    "        dj_dw=np.zeros(n)\n",
    "        dj_db=0\n",
    "        for k in range(self.n_iters):\n",
    "          for i in range(m):\n",
    "            for j in range(n):\n",
    "              dj_dw[j]+=(np.dot(self.weights,X[i])+self.bias-y[i])*X[i,j]\n",
    "            dj_db+=(np.dot(self.weights,X[i])+self.bias)-y[i]\n",
    "          dj_dw=dj_dw/m\n",
    "          dj_db=dj_db/m\n",
    "          self.weights=self.weights-(self.lr*dj_dw)\n",
    "          self.bias=self.bias-(self.lr*dj_db)\n",
    "        print(self.weights)\n",
    "        print(self.bias)\n",
    "\n",
    "\n",
    "\n",
    "        \n",
    "\n",
    "\n",
    "\n",
    "\n",
    "        \n",
    "    # This function will be called after our model has been trained and we are predicting on unseen data\n",
    "    # What is our prediction? Just return that\n",
    "    def predict(self, X):\n",
    "      m,n=X.shape\n",
    "      y_approximated=np.zeros(m)\n",
    "      for u in range(m):\n",
    "        y_approximated =np.dot(self.weights,X[i])+self.bias\n",
    "      return y_approximated"
   ]
  },
  {
   "cell_type": "markdown",
   "metadata": {
    "id": "EvyInkTKPn7W"
   },
   "source": [
    "### Initializing, Training & Predictions"
   ]
  },
  {
   "cell_type": "code",
   "execution_count": 31,
   "metadata": {
    "colab": {
     "base_uri": "https://localhost:8080/"
    },
    "id": "nvItUpAkHTiv",
    "outputId": "8f695a05-d322-4506-cea2-e39588763975"
   },
   "outputs": [
    {
     "name": "stdout",
     "output_type": "stream",
     "text": [
      "[78.85272483 89.04435563 24.37685604]\n",
      "[-0.52988294]\n"
     ]
    }
   ],
   "source": [
    "# Now, we make an object of our custom class.\n",
    "regressor = LinearRegression(learning_rate=0.01, n_iters=1000) # You may pass the custom parameters or let the default values take it ahead\n",
    "\n",
    "# Call the fit method on the object to train (pass appropriate part of dataset)\n",
    "regressor.fit(X_train,y_train)\n",
    "\n",
    "# Now, let's see our what our model predicts # pass appropriate part of dataset\n",
    "Y_pred=regressor.predict(X_test)\n",
    "\n",
    " "
   ]
  },
  {
   "cell_type": "markdown",
   "metadata": {
    "id": "tzK6cq8eRD4Q"
   },
   "source": [
    "### Evaluate the model   \n",
    "\n",
    "Return [Mean Squared Error](https://en.wikipedia.org/wiki/Mean_squared_error) & [R2 Score](https://www.ncl.ac.uk/webtemplate/ask-assets/external/maths-resources/statistics/regression-and-correlation/coefficient-of-determination-r-squared.html#:~:text=%C2%AFy) from the functions below."
   ]
  },
  {
   "cell_type": "code",
   "execution_count": 39,
   "metadata": {
    "colab": {
     "base_uri": "https://localhost:8080/"
    },
    "id": "J_QxgAEFhWMr",
    "outputId": "e10bdb3f-2d24-4843-e236-c817bc888b9a"
   },
   "outputs": [
    {
     "name": "stdout",
     "output_type": "stream",
     "text": [
      "MSE: 8039.444103550656\n",
      "Accuracy: 98.1879955278999 %\n"
     ]
    }
   ],
   "source": [
    "def mean_squared_error(y_true, y_pred):\n",
    "\n",
    "    cf=np.sum((y_pred-y_true)**2)\n",
    "    m=len(y_true)\n",
    "    cf=cf/(2*m)\n",
    "    return cf\n",
    "\n",
    "\n",
    "       \n",
    "\n",
    "def r2_score(y_true, y_pred):\n",
    "    m=np.mean(y_true)\n",
    "    num=(y_true-y_pred)**2\n",
    "    den=(y_true-m)**2\n",
    "    score=(np.sum(num))/(np.sum(den))\n",
    "    score=1-score\n",
    "    return score\n",
    "        \n",
    "    # return the r2 score\n",
    "       \n",
    "          \n",
    "\n",
    "mse = mean_squared_error(y_test, Y_pred)\n",
    "print(\"MSE:\", mse)\n",
    "\n",
    "accu = r2_score(y_test, Y_pred)\n",
    "print(\"Accuracy:\", accu)"
   ]
  },
  {
   "cell_type": "code",
   "execution_count": null,
   "metadata": {
    "id": "mYHjSRSyP-KK"
   },
   "outputs": [],
   "source": [
    "#Print first 10 values of prediction and y_test\n"
   ]
  },
  {
   "cell_type": "markdown",
   "metadata": {
    "id": "9eaalBEZg8j1"
   },
   "source": [
    "[Please click on this link to access subjective questions](https://docs.google.com/document/d/1wgM6qO6w1QQbcC74Wt58wlScT8uUa9U5rLdDNT99FXE/edit?usp=sharing)"
   ]
  }
 ],
 "metadata": {
  "colab": {
   "provenance": []
  },
  "kernelspec": {
   "display_name": "Python 3 (ipykernel)",
   "language": "python",
   "name": "python3"
  },
  "language_info": {
   "codemirror_mode": {
    "name": "ipython",
    "version": 3
   },
   "file_extension": ".py",
   "mimetype": "text/x-python",
   "name": "python",
   "nbconvert_exporter": "python",
   "pygments_lexer": "ipython3",
   "version": "3.9.13"
  }
 },
 "nbformat": 4,
 "nbformat_minor": 1
}
